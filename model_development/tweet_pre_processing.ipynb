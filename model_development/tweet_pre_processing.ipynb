{
 "cells": [
  {
   "cell_type": "markdown",
   "metadata": {},
   "source": [
    "## Data Preprocessing"
   ]
  },
  {
   "cell_type": "code",
   "execution_count": 1,
   "metadata": {},
   "outputs": [],
   "source": [
    "# import core libraries \n",
    "import datetime\n",
    "import json\n",
    "import re\n",
    "import csv\n",
    "import ast\n",
    "import pprint\n",
    "import pathlib\n",
    "import itertools\n",
    "from collections import Counter\n",
    "from itertools import islice\n",
    "\n",
    "# import third-party libraries\n",
    "import numpy as np\n",
    "import pandas as pd\n",
    "\n",
    "# import visualizations\n",
    "%matplotlib inline\n",
    "import matplotlib\n",
    "import matplotlib.pyplot as plt\n",
    "import seaborn as sns"
   ]
  },
  {
   "cell_type": "code",
   "execution_count": 2,
   "metadata": {},
   "outputs": [],
   "source": [
    "# set directory path data\n",
    "syria_data_dir = pathlib.Path('/Users/adamstueckrath/Desktop/syria_data/')\n",
    "\n",
    "# tweets_no_rts_csv file path\n",
    "tweets_no_rts_csv = syria_data_dir / 'tweets_no_retweets' / 'tweets_no_retweets.csv'\n"
   ]
  },
  {
   "cell_type": "markdown",
   "metadata": {},
   "source": [
    "## Tweet Data Processing"
   ]
  },
  {
   "cell_type": "code",
   "execution_count": 3,
   "metadata": {},
   "outputs": [],
   "source": [
    "def string_to_datetime(tweet_date):\n",
    "    \"\"\"\n",
    "    Turns a datetime string like this: \n",
    "    '2017-07-06T18:34:37.000Z' \n",
    "    to a Python datetime object like this -> 2017-07-06 18:34:41\n",
    "    \"\"\"\n",
    "    return datetime.datetime.strptime(tweet_date, \"%Y-%m-%dT%H:%M:%S.%fZ\")\n"
   ]
  },
  {
   "cell_type": "code",
   "execution_count": 4,
   "metadata": {},
   "outputs": [],
   "source": [
    "# load tweets into dataframe from csv file\n",
    "tweets_no_rts_df = pd.read_csv(tweets_no_rts_csv, header=0,\n",
    "                               parse_dates=['tweet_created_at'],\n",
    "                               usecols=['tweet_id', 'tweet_id_str',\n",
    "                                        'tweet_lang','tweet_created_at',\n",
    "                                        'user_name','user_id_str','tweet_text'],\n",
    "                               date_parser=string_to_datetime)\n"
   ]
  },
  {
   "cell_type": "markdown",
   "metadata": {},
   "source": [
    "### Filter tweets for english only"
   ]
  },
  {
   "cell_type": "code",
   "execution_count": 5,
   "metadata": {},
   "outputs": [
    {
     "data": {
      "text/plain": [
       "(1160088, 7)"
      ]
     },
     "execution_count": 5,
     "metadata": {},
     "output_type": "execute_result"
    }
   ],
   "source": [
    "tweets_no_rts_df.shape"
   ]
  },
  {
   "cell_type": "code",
   "execution_count": 6,
   "metadata": {},
   "outputs": [],
   "source": [
    "tweets_no_rts_df = tweets_no_rts_df[tweets_no_rts_df['tweet_lang'] =='en']\n",
    "tweets_no_rts_df = tweets_no_rts_df.reset_index(drop=True)\n"
   ]
  },
  {
   "cell_type": "code",
   "execution_count": 7,
   "metadata": {},
   "outputs": [
    {
     "data": {
      "text/plain": [
       "(638161, 7)"
      ]
     },
     "execution_count": 7,
     "metadata": {},
     "output_type": "execute_result"
    }
   ],
   "source": [
    "tweets_no_rts_df.shape"
   ]
  },
  {
   "cell_type": "markdown",
   "metadata": {},
   "source": [
    "### Clean tweet text"
   ]
  },
  {
   "cell_type": "markdown",
   "metadata": {},
   "source": [
    "Pre-processing\n",
    "Pre-processing the data is the process of cleaning and preparing the text for classification. Online texts contain usually\n",
    "lots of noise and uninformative parts such as HTML tags, scripts and advertisements. In addition, on words level, many\n",
    "words in the text do not have an impact on the general orientation of it.\n",
    "\n",
    "Keeping those words makes the dimensionality of the problem high and hence the classification more difficult since each\n",
    "word in the text is treated as one dimension. Here is the hypothesis of having the data properly pre-processed: to reduce the\n",
    "noise in the text should help improve the performance of the classifier and speed up the classification process, thus aiding in\n",
    "real time sentiment analysis."
   ]
  },
  {
   "cell_type": "code",
   "execution_count": 8,
   "metadata": {},
   "outputs": [],
   "source": [
    "def clean_text(text):\n",
    "    '''\n",
    "    Utility function to clean the text in a tweet by removing \n",
    "    links and special characters using regex.\n",
    "    use this for removing digits -> return re.sub('\\d+', '', input_text)\n",
    "    '''\n",
    "    text = text.lower()\n",
    "    return ' '.join(re.sub(\"(@[A-Za-z0-9]+)|([^0-9A-Za-z \\t])|(\\w+:\\/\\/\\S+)\", \" \", text).split())\n"
   ]
  },
  {
   "cell_type": "code",
   "execution_count": 9,
   "metadata": {},
   "outputs": [],
   "source": [
    "tweets_no_rts_df['tweet_text_clean'] = tweets_no_rts_df['tweet_text'].apply(clean_text)\n"
   ]
  },
  {
   "cell_type": "markdown",
   "metadata": {},
   "source": [
    "## Sentiment Analysis "
   ]
  },
  {
   "cell_type": "markdown",
   "metadata": {},
   "source": [
    "https://github.com/cjhutto/vaderSentiment\n",
    "\n",
    "NLTK’s built-in Vader Sentiment Analyzer will simply rank a piece of text as positive, negative or neutral using a lexicon of positive and negative words.\n",
    "\n",
    "We can utilize this tool by first creating a Sentiment Intensity Analyzer (SIA) to categorize the tweets, then we'll use the compound value to get the sentiment.\n",
    "\n",
    "What makes VADER great for social media text?\n",
    "As you might have guessed, the fact that lexicons are expensive and time-consuming to produce means they are not updated all that often. This means they lack a lot of current slang that may be used to express how a person is feeling.\n"
   ]
  },
  {
   "cell_type": "markdown",
   "metadata": {},
   "source": [
    "Terminology:\n",
    "\n",
    "* **Corpora**: is the plural for corpus.\n",
    "* **Corpus**: basically means a body, and in the context of Natural Language Processing (NLP), it means a body of text.\n",
    "* **Lexicon**: A lexicon, or lexical resource, is a collection of words and/or phrases along with associated information, such as part-of-speech and sense definitions. Lexical resources are secondary to texts, and are usually created and enriched with the help of texts.In NLTK, any lexicon is considered a corpus since a list of words is also a body of text.\n",
    "* **WordNet**: is lexical database for the English language (it's like a lexicon/dictionary with word-to-word relations. "
   ]
  },
  {
   "cell_type": "markdown",
   "metadata": {},
   "source": [
    "The NLTK Lemmatization method is based on WordNet’s built-in morphy function. Here is the introduction from WordNet official website:\n",
    "\n",
    "WordNet® is a large lexical database of English. Nouns, verbs, adjectives and adverbs are grouped into sets of cognitive synonyms (synsets), each expressing a distinct concept. Synsets are interlinked by means of conceptual-semantic and lexical relations. The resulting network of meaningfully related words and concepts can be navigated with the browser. WordNet is also freely and publicly available for download. WordNet’s structure makes it a useful tool for computational linguistics and natural language processing.\n",
    "\n",
    "WordNet superficially resembles a thesaurus, in that it groups words together based on their meanings. However, there are some important distinctions. First, WordNet interlinks not just word forms—strings of letters—but specific senses of words. As a result, words that are found in close proximity to one another in the network are semantically disambiguated. Second, WordNet labels the semantic relations among words, whereas the groupings of words in a thesaurus does not follow any explicit pattern other than meaning similarity"
   ]
  },
  {
   "cell_type": "code",
   "execution_count": 10,
   "metadata": {},
   "outputs": [
    {
     "name": "stderr",
     "output_type": "stream",
     "text": [
      "/Users/adamstueckrath/.pyenv/versions/3.6.5/envs/syria-project-3.6.5/lib/python3.6/site-packages/nltk/twitter/__init__.py:20: UserWarning: The twython library has not been installed. Some functionality from the twitter package will not be available.\n",
      "  warnings.warn(\"The twython library has not been installed. \"\n"
     ]
    }
   ],
   "source": [
    "from nltk.sentiment.vader import SentimentIntensityAnalyzer \n",
    "analyzer = SentimentIntensityAnalyzer()\n",
    "\n",
    "def analyze_sentiment(text):\n",
    "    '''\n",
    "    Utility function to classify the polarity of a tweet\n",
    "    using nltk. analysis variable returns the following dict: \n",
    "    {'neg': 0.122, 'neu': 0.641, 'pos': 0.237, 'compound': 0.4215}\n",
    "    The compound value here conveys the overall positive or negative user experience.\n",
    "    Examples: \n",
    "    https://www.programcreek.com/python/example/100005/nltk.sentiment.vader.SentimentIntensityAnalyzer\n",
    "    https://opensourceforu.com/2016/12/analysing-sentiments-nltk/\n",
    "    '''\n",
    "    analysis = analyzer.polarity_scores(text)\n",
    "    return analysis['compound']\n"
   ]
  },
  {
   "cell_type": "code",
   "execution_count": 11,
   "metadata": {},
   "outputs": [],
   "source": [
    "tweets_no_rts_df['tweet_sentiment_compound'] = tweets_no_rts_df['tweet_text_clean'].apply(analyze_sentiment)\n"
   ]
  },
  {
   "cell_type": "markdown",
   "metadata": {},
   "source": [
    "**About the Scoring**\n",
    "The compound score is computed by summing the valence scores of each word in the lexicon, adjusted according to the rules, and then normalized to be between -1 (most extreme negative) and +1 (most extreme positive). This is the most useful metric if you want a single unidimensional measure of sentiment for a given sentence. Calling it a 'normalized, weighted composite score' is accurate.\n",
    "\n",
    "It is also useful for researchers who would like to set standardized thresholds for classifying sentences as either positive, neutral, or negative. Typical threshold values (used in the literature cited on this page) are:\n",
    "\n",
    "* positive sentiment: compound score >= 0.05\n",
    "* neutral sentiment: (compound score > -0.05) and (compound score < 0.05)\n",
    "* negative sentiment: compound score <= -0.05"
   ]
  },
  {
   "cell_type": "markdown",
   "metadata": {},
   "source": [
    "Our dataframe consists of four columns from the sentiment scoring: Neu, Neg, Pos and compound. The first three represent the sentiment score percentage of each category in our headline, and the compound single number that scores the sentiment. `compound` ranges from -1 (Extremely Negative) to 1 (Extremely Positive)."
   ]
  },
  {
   "cell_type": "markdown",
   "metadata": {},
   "source": [
    "We will consider posts with a compound value greater than 0.2 as positive and less than -0.2 as negative. There's some testing and experimentation that goes with choosing these ranges, and there is a trade-off to be made here. If you choose a higher value, you might get more compact results (less false positives and false negatives), but the size of the results will decrease significantly.\n",
    "\n",
    "I had originally gone with the NLTK documentation of suggestion of 0.5 and -0.5 as positive/negative. However my results too compact: \n"
   ]
  },
  {
   "cell_type": "code",
   "execution_count": 12,
   "metadata": {},
   "outputs": [],
   "source": [
    "def sentiment_score_suggested(compound):\n",
    "    if compound > 0.5:\n",
    "        return 1\n",
    "    elif compound < -0.5:\n",
    "        return -1\n",
    "    else:\n",
    "        return 0\n",
    "    "
   ]
  },
  {
   "cell_type": "code",
   "execution_count": 13,
   "metadata": {},
   "outputs": [
    {
     "data": {
      "text/plain": [
       " 0    434390\n",
       "-1    135277\n",
       " 1     68494\n",
       "Name: tweet_sentiment_score, dtype: int64"
      ]
     },
     "execution_count": 13,
     "metadata": {},
     "output_type": "execute_result"
    }
   ],
   "source": [
    "tweets_no_rts_df['tweet_sentiment_score'] = tweets_no_rts_df['tweet_sentiment_compound'].apply(sentiment_score_suggested)\n",
    "tweets_no_rts_df['tweet_sentiment_score'].value_counts()\n"
   ]
  },
  {
   "cell_type": "code",
   "execution_count": 14,
   "metadata": {},
   "outputs": [],
   "source": [
    "def sentiment_score(compound):\n",
    "    if compound > 0.2:\n",
    "        return 1\n",
    "    elif compound < -0.2:\n",
    "        return -1\n",
    "    else:\n",
    "        return 0\n",
    "    "
   ]
  },
  {
   "cell_type": "code",
   "execution_count": 15,
   "metadata": {},
   "outputs": [
    {
     "data": {
      "text/plain": [
       " 0    244735\n",
       "-1    238936\n",
       " 1    154490\n",
       "Name: tweet_sentiment_score, dtype: int64"
      ]
     },
     "execution_count": 15,
     "metadata": {},
     "output_type": "execute_result"
    }
   ],
   "source": [
    "tweets_no_rts_df['tweet_sentiment_score'] = tweets_no_rts_df['tweet_sentiment_compound'].apply(sentiment_score)\n",
    "tweets_no_rts_df['tweet_sentiment_score'].value_counts()\n"
   ]
  },
  {
   "cell_type": "code",
   "execution_count": 16,
   "metadata": {},
   "outputs": [],
   "source": [
    "def sentiment_label(score):\n",
    "    if score == 1:\n",
    "        return 'positive'\n",
    "    elif score == -1:\n",
    "        return 'negative'\n",
    "    else:\n",
    "        return 'neutral'\n",
    "    "
   ]
  },
  {
   "cell_type": "code",
   "execution_count": 17,
   "metadata": {},
   "outputs": [],
   "source": [
    "tweets_no_rts_df['tweet_sentiment_label'] = tweets_no_rts_df['tweet_sentiment_score'].apply(sentiment_label)\n"
   ]
  },
  {
   "cell_type": "code",
   "execution_count": 18,
   "metadata": {},
   "outputs": [
    {
     "data": {
      "text/plain": [
       "neutral     244735\n",
       "negative    238936\n",
       "positive    154490\n",
       "Name: tweet_sentiment_label, dtype: int64"
      ]
     },
     "execution_count": 18,
     "metadata": {},
     "output_type": "execute_result"
    }
   ],
   "source": [
    "tweets_no_rts_df['tweet_sentiment_label'].value_counts()\n"
   ]
  },
  {
   "cell_type": "markdown",
   "metadata": {},
   "source": [
    "## Sentiment Charts"
   ]
  },
  {
   "cell_type": "code",
   "execution_count": 19,
   "metadata": {},
   "outputs": [
    {
     "name": "stdout",
     "output_type": "stream",
     "text": [
      "Positive headlines:\n",
      "\n",
      "['@sahouraxo i hear syria used to be a beautiful country too',\n",
      " 'POLITICO - Posts | Trump declined to say clearly that he believes... https://t.co/MvqabWLKfM https://t.co/v8FCfOXC5v',\n",
      " \"@justgivemesun I tell producers daily! It's called Freedom of speech! Rep.Gabhard is a liberal living in Hawaii cla… https://t.co/m2yQSNkoSJ\",\n",
      " '@TIME Does that include children in Syria?  Because saying so and doing something to help are different.',\n",
      " '@kwilli1046 They need to be sent to that beautiful country called Syria!!!!\\n😜😜😜😜😜😜😜😜😜😜😜😜😜😜😜😜😜😜😜😜😜😜😜😜😜😜😜😜😜😜😜😜😜😜😜😜😜😜😜😜😄😜😜😜😜😜😜😜']\n",
      "\n",
      "\n",
      "\n",
      "Negative headlines:\n",
      "\n",
      "['I liked a @YouTube video https://t.co/zo5YUOyXyM Tillerson calls for Syria unity, no-fly zone as Russia alerts over chemical attacks',\n",
      " 'Team probing Syria chemical attacks comes under pressure https://t.co/8BvdEhGNNG',\n",
      " \"@Deplorable80210 She lives in Hawaii and is totally clueless! US doesn't support Syria Terrorist! Unless Obama did… https://t.co/PtxJIQCvHR\",\n",
      " 'Global inquiry aims to report on Syria sarin attack by October',\n",
      " \".'I still have nightmares': Voices from Assad's torture network in #Syria. #7DaysInSyria https://t.co/8YD4P2CCO4\"]\n"
     ]
    }
   ],
   "source": [
    "print(\"Positive headlines:\\n\")\n",
    "pprint.pprint(list(tweets_no_rts_df[tweets_no_rts_df['tweet_sentiment_label'] == 'positive'].tweet_text)[20:25], width=300)\n",
    "\n",
    "print(\"\\n\")\n",
    "\n",
    "print(\"\\nNegative headlines:\\n\")\n",
    "pprint.pprint(list(tweets_no_rts_df[tweets_no_rts_df['tweet_sentiment_label'] == 'negative'].tweet_text)[20:25], width=300)\n"
   ]
  },
  {
   "cell_type": "code",
   "execution_count": 20,
   "metadata": {},
   "outputs": [
    {
     "data": {
      "image/png": "[encoded data removed]",
      "text/plain": [
       "<Figure size 576x576 with 1 Axes>"
      ]
     },
     "metadata": {
      "needs_background": "light"
     },
     "output_type": "display_data"
    }
   ],
   "source": [
    "fig, ax = plt.subplots(figsize=(8, 8))\n",
    "counts = tweets_no_rts_df.tweet_sentiment_score.value_counts(normalize=True) * 100\n",
    "sns.barplot(x=counts.index, y=counts, ax=ax)\n",
    "ax.set_xticklabels(['Negative', 'Neutral', 'Positive'])\n",
    "ax.set_ylabel(\"Percentage\")\n",
    "plt.show()\n"
   ]
  },
  {
   "cell_type": "markdown",
   "metadata": {},
   "source": [
    "The large number of neutral tweets is due to two main reasons:\n",
    "1. The assumption that we made earlier where text with compound value between 0.2 and -0.2 are considered neutral. The higher the margin, the larger the number of neutral tweets.\n",
    "2. We used general lexicon to categorize tweets. The more correct way is to use a conflict-specific lexicon, but for that we would either need a human to manually label data, or we would need to find a custom lexicon already made."
   ]
  },
  {
   "cell_type": "markdown",
   "metadata": {},
   "source": [
    "## Tokenization"
   ]
  },
  {
   "attachments": {
    "tokenization.jpeg": {
     "image/jpeg": "[encoded data removed]"
    }
   },
   "cell_type": "markdown",
   "metadata": {},
   "source": [
    "![tokenization.jpeg](attachment:tokenization.jpeg)"
   ]
  },
  {
   "cell_type": "markdown",
   "metadata": {},
   "source": [
    "It is a process of breaking up the given text into small units such as sentences or words. It does this work / task by locating word boundaries. What is word boundaries? Ending point of a word & beginning of the next word is called word boundary. Tokenization is also known as word segmentation.\n"
   ]
  },
  {
   "cell_type": "code",
   "execution_count": 21,
   "metadata": {},
   "outputs": [],
   "source": [
    "from nltk.tokenize import word_tokenize\n",
    "\n",
    "def tokenize_text(text):\n",
    "    return word_tokenize(text)\n"
   ]
  },
  {
   "cell_type": "code",
   "execution_count": 22,
   "metadata": {},
   "outputs": [],
   "source": [
    "tweets_no_rts_df['tweet_text_tokenize'] = tweets_no_rts_df['tweet_text_clean'].apply(tokenize_text)\n"
   ]
  },
  {
   "cell_type": "markdown",
   "metadata": {},
   "source": [
    "## Stemming and removing stop words"
   ]
  },
  {
   "cell_type": "markdown",
   "metadata": {},
   "source": [
    "**Stop Words**\n",
    "\n",
    "Stopwords considered as noise in the text. Text may contain stop words such as is, am, are, this, a, an, the, etc.\n",
    "\n",
    "In NLTK for removing stopwords, you need to create a list of stopwords and filter out your list of tokens from these words.\n",
    "\n",
    "\n",
    "**Lemmatization**\n",
    "\n",
    "The process of removing prefixes, suffixes from the words and reduce them to their stem form. It refers to map a word form to basic word. Words forms may differ from stem due to morphological changes and grammatical reasons. For example, the word “computation”, might be stemmed to “comput”.\n",
    "\n",
    "So to redefine in simple words it is a process of chopping off the end of the word to leave only the base. It is a part of linguistic studies in Morphology and Artificial Intelligence for information extraction and retrieval.\n",
    "\n",
    "Stemming and AI knowledge extract meaningful information from vast sources like big data and Internet. Finally when the stem of a word is recognized the further it makes easier to return search results.\n",
    "\n",
    "Lemmatization is very similar to stemming, but is more akin to synonym replacement. A lemma is a root word, as opposed to the root stem. So unlike stemming, you are always left with a valid word which means the same thing. But the word you end up with can be completely different. A few examples will explain lemmatization..."
   ]
  },
  {
   "cell_type": "code",
   "execution_count": 23,
   "metadata": {},
   "outputs": [],
   "source": [
    "from nltk.stem import WordNetLemmatizer\n",
    "from nltk.corpus import stopwords\n",
    "stop_words = set(stopwords.words('english'))\n",
    "wordnet_lemmatizer = WordNetLemmatizer()\n",
    "\n",
    "def normalizer(text):\n",
    "    filtered_text = list(filter(lambda l: l not in stop_words, text))\n",
    "    lemmas = [wordnet_lemmatizer.lemmatize(t) for t in filtered_text]\n",
    "    return lemmas\n"
   ]
  },
  {
   "cell_type": "code",
   "execution_count": 24,
   "metadata": {},
   "outputs": [],
   "source": [
    "tweets_no_rts_df['tweet_text_normalize'] = tweets_no_rts_df['tweet_text_tokenize'].apply(normalizer)\n"
   ]
  },
  {
   "cell_type": "code",
   "execution_count": 25,
   "metadata": {},
   "outputs": [
    {
     "data": {
      "text/html": [
       "<div>\n",
       "<style scoped>\n",
       "    .dataframe tbody tr th:only-of-type {\n",
       "        vertical-align: middle;\n",
       "    }\n",
       "\n",
       "    .dataframe tbody tr th {\n",
       "        vertical-align: top;\n",
       "    }\n",
       "\n",
       "    .dataframe thead th {\n",
       "        text-align: right;\n",
       "    }\n",
       "</style>\n",
       "<table border=\"1\" class=\"dataframe\">\n",
       "  <thead>\n",
       "    <tr style=\"text-align: right;\">\n",
       "      <th></th>\n",
       "      <th>tweet_id</th>\n",
       "      <th>tweet_id_str</th>\n",
       "      <th>tweet_created_at</th>\n",
       "      <th>tweet_lang</th>\n",
       "      <th>tweet_text</th>\n",
       "      <th>user_id_str</th>\n",
       "      <th>user_name</th>\n",
       "      <th>tweet_text_clean</th>\n",
       "      <th>tweet_sentiment_compound</th>\n",
       "      <th>tweet_sentiment_score</th>\n",
       "      <th>tweet_sentiment_label</th>\n",
       "      <th>tweet_text_tokenize</th>\n",
       "      <th>tweet_text_normalize</th>\n",
       "    </tr>\n",
       "  </thead>\n",
       "  <tbody>\n",
       "    <tr>\n",
       "      <th>0</th>\n",
       "      <td>595e82d713bbf01307babbbd</td>\n",
       "      <td>883031462043414528</td>\n",
       "      <td>2017-07-06 18:34:41</td>\n",
       "      <td>en</td>\n",
       "      <td>@Autumblues @JudeStevens @CBCNews So Syria and...</td>\n",
       "      <td>136332449</td>\n",
       "      <td>Gab.ai ➡</td>\n",
       "      <td>so syria and libya is on who but lets hear the...</td>\n",
       "      <td>0.0000</td>\n",
       "      <td>0</td>\n",
       "      <td>neutral</td>\n",
       "      <td>[so, syria, and, libya, is, on, who, but, lets...</td>\n",
       "      <td>[syria, libya, let, hear, excuse, 4, 3, 2, 1, go]</td>\n",
       "    </tr>\n",
       "    <tr>\n",
       "      <th>1</th>\n",
       "      <td>595e82d713bbf01307babbc6</td>\n",
       "      <td>883031512031125505</td>\n",
       "      <td>2017-07-06 18:34:53</td>\n",
       "      <td>en</td>\n",
       "      <td>@Diane1hDiane SHE'S FAR FROM CLUELESS. UNLIKE ...</td>\n",
       "      <td>796834612416811009</td>\n",
       "      <td>WakeUP2017</td>\n",
       "      <td>she s far from clueless unlike most including ...</td>\n",
       "      <td>-0.4215</td>\n",
       "      <td>-1</td>\n",
       "      <td>negative</td>\n",
       "      <td>[she, s, far, from, clueless, unlike, most, in...</td>\n",
       "      <td>[far, clueless, unlike, including, congress, a...</td>\n",
       "    </tr>\n",
       "    <tr>\n",
       "      <th>2</th>\n",
       "      <td>595e82d713bbf01307babbc9</td>\n",
       "      <td>883031518972608512</td>\n",
       "      <td>2017-07-06 18:34:54</td>\n",
       "      <td>en</td>\n",
       "      <td>See footage from the #G20 #WelcomeToHell prote...</td>\n",
       "      <td>2429008230</td>\n",
       "      <td>Vero Ger</td>\n",
       "      <td>see footage from the g20 welcometohell protest...</td>\n",
       "      <td>-0.2263</td>\n",
       "      <td>-1</td>\n",
       "      <td>negative</td>\n",
       "      <td>[see, footage, from, the, g20, welcometohell, ...</td>\n",
       "      <td>[see, footage, g20, welcometohell, protest, ha...</td>\n",
       "    </tr>\n",
       "    <tr>\n",
       "      <th>3</th>\n",
       "      <td>595e82d713bbf01307babbcb</td>\n",
       "      <td>883031525905793026</td>\n",
       "      <td>2017-07-06 18:34:56</td>\n",
       "      <td>en</td>\n",
       "      <td>Global inquiry aims to report on Syria sarin a...</td>\n",
       "      <td>817450572026703874</td>\n",
       "      <td>NEWS</td>\n",
       "      <td>global inquiry aims to report on syria sarin a...</td>\n",
       "      <td>-0.4767</td>\n",
       "      <td>-1</td>\n",
       "      <td>negative</td>\n",
       "      <td>[global, inquiry, aims, to, report, on, syria,...</td>\n",
       "      <td>[global, inquiry, aim, report, syria, sarin, a...</td>\n",
       "    </tr>\n",
       "    <tr>\n",
       "      <th>4</th>\n",
       "      <td>595e82d713bbf01307babbcd</td>\n",
       "      <td>883031529303232512</td>\n",
       "      <td>2017-07-06 18:34:57</td>\n",
       "      <td>en</td>\n",
       "      <td>@TheSwogBlog Bill liked Trump's muh holocaust ...</td>\n",
       "      <td>882690403886956544</td>\n",
       "      <td>Andrew Saxon</td>\n",
       "      <td>bill liked trump s muh holocaust amp russia sy...</td>\n",
       "      <td>0.1531</td>\n",
       "      <td>0</td>\n",
       "      <td>neutral</td>\n",
       "      <td>[bill, liked, trump, s, muh, holocaust, amp, r...</td>\n",
       "      <td>[bill, liked, trump, muh, holocaust, amp, russ...</td>\n",
       "    </tr>\n",
       "  </tbody>\n",
       "</table>\n",
       "</div>"
      ],
      "text/plain": [
       "                   tweet_id        tweet_id_str    tweet_created_at  \\\n",
       "0  595e82d713bbf01307babbbd  883031462043414528 2017-07-06 18:34:41   \n",
       "1  595e82d713bbf01307babbc6  883031512031125505 2017-07-06 18:34:53   \n",
       "2  595e82d713bbf01307babbc9  883031518972608512 2017-07-06 18:34:54   \n",
       "3  595e82d713bbf01307babbcb  883031525905793026 2017-07-06 18:34:56   \n",
       "4  595e82d713bbf01307babbcd  883031529303232512 2017-07-06 18:34:57   \n",
       "\n",
       "  tweet_lang                                         tweet_text  \\\n",
       "0         en  @Autumblues @JudeStevens @CBCNews So Syria and...   \n",
       "1         en  @Diane1hDiane SHE'S FAR FROM CLUELESS. UNLIKE ...   \n",
       "2         en  See footage from the #G20 #WelcomeToHell prote...   \n",
       "3         en  Global inquiry aims to report on Syria sarin a...   \n",
       "4         en  @TheSwogBlog Bill liked Trump's muh holocaust ...   \n",
       "\n",
       "          user_id_str     user_name  \\\n",
       "0           136332449      Gab.ai ➡   \n",
       "1  796834612416811009    WakeUP2017   \n",
       "2          2429008230      Vero Ger   \n",
       "3  817450572026703874          NEWS   \n",
       "4  882690403886956544  Andrew Saxon   \n",
       "\n",
       "                                    tweet_text_clean  \\\n",
       "0  so syria and libya is on who but lets hear the...   \n",
       "1  she s far from clueless unlike most including ...   \n",
       "2  see footage from the g20 welcometohell protest...   \n",
       "3  global inquiry aims to report on syria sarin a...   \n",
       "4  bill liked trump s muh holocaust amp russia sy...   \n",
       "\n",
       "   tweet_sentiment_compound  tweet_sentiment_score tweet_sentiment_label  \\\n",
       "0                    0.0000                      0               neutral   \n",
       "1                   -0.4215                     -1              negative   \n",
       "2                   -0.2263                     -1              negative   \n",
       "3                   -0.4767                     -1              negative   \n",
       "4                    0.1531                      0               neutral   \n",
       "\n",
       "                                 tweet_text_tokenize  \\\n",
       "0  [so, syria, and, libya, is, on, who, but, lets...   \n",
       "1  [she, s, far, from, clueless, unlike, most, in...   \n",
       "2  [see, footage, from, the, g20, welcometohell, ...   \n",
       "3  [global, inquiry, aims, to, report, on, syria,...   \n",
       "4  [bill, liked, trump, s, muh, holocaust, amp, r...   \n",
       "\n",
       "                                tweet_text_normalize  \n",
       "0  [syria, libya, let, hear, excuse, 4, 3, 2, 1, go]  \n",
       "1  [far, clueless, unlike, including, congress, a...  \n",
       "2  [see, footage, g20, welcometohell, protest, ha...  \n",
       "3  [global, inquiry, aim, report, syria, sarin, a...  \n",
       "4  [bill, liked, trump, muh, holocaust, amp, russ...  "
      ]
     },
     "execution_count": 25,
     "metadata": {},
     "output_type": "execute_result"
    }
   ],
   "source": [
    "tweets_no_rts_df.head()"
   ]
  },
  {
   "cell_type": "code",
   "execution_count": 26,
   "metadata": {},
   "outputs": [
    {
     "data": {
      "text/plain": [
       "'@ShaunKing Maybe you should tell everyone that wants to come here that. Where would you like to start? Syria? Why d… https://t.co/x8IY58aTIg'"
      ]
     },
     "execution_count": 26,
     "metadata": {},
     "output_type": "execute_result"
    }
   ],
   "source": [
    "tweets_no_rts_df.iloc[7]['tweet_text']"
   ]
  },
  {
   "cell_type": "code",
   "execution_count": 27,
   "metadata": {},
   "outputs": [
    {
     "data": {
      "text/plain": [
       "['maybe',\n",
       " 'tell',\n",
       " 'everyone',\n",
       " 'want',\n",
       " 'come',\n",
       " 'would',\n",
       " 'like',\n",
       " 'start',\n",
       " 'syria']"
      ]
     },
     "execution_count": 27,
     "metadata": {},
     "output_type": "execute_result"
    }
   ],
   "source": [
    "tweets_no_rts_df.iloc[7]['tweet_text_normalize']"
   ]
  },
  {
   "cell_type": "markdown",
   "metadata": {},
   "source": [
    "## Save data for training and testing "
   ]
  },
  {
   "cell_type": "code",
   "execution_count": 28,
   "metadata": {},
   "outputs": [],
   "source": [
    "# tweets_no_rts_csv file path\n",
    "tweets_pre_processed_csv = syria_data_dir / 'model' / 'model_data' /'tweets_pre_processed.csv'\n",
    "\n",
    "# write tweets to csv \n",
    "tweets_no_rts_df.to_csv(tweets_pre_processed_csv, index=False)"
   ]
  },
  {
   "cell_type": "code",
   "execution_count": null,
   "metadata": {},
   "outputs": [],
   "source": []
  },
  {
   "cell_type": "code",
   "execution_count": null,
   "metadata": {},
   "outputs": [],
   "source": []
  },
  {
   "cell_type": "code",
   "execution_count": null,
   "metadata": {},
   "outputs": [],
   "source": []
  }
 ],
 "metadata": {
  "kernelspec": {
   "display_name": "Python 3",
   "language": "python",
   "name": "python3"
  },
  "language_info": {
   "codemirror_mode": {
    "name": "ipython",
    "version": 3
   },
   "file_extension": ".py",
   "mimetype": "text/x-python",
   "name": "python",
   "nbconvert_exporter": "python",
   "pygments_lexer": "ipython3",
   "version": "3.6.5"
  }
 },
 "nbformat": 4,
 "nbformat_minor": 2
}
