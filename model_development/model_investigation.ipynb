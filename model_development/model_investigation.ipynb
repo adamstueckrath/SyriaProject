{
 "cells": [
  {
   "cell_type": "markdown",
   "metadata": {},
   "source": [
    "# Investigate tweets for question\n"
   ]
  },
  {
   "cell_type": "code",
   "execution_count": 1,
   "metadata": {},
   "outputs": [],
   "source": [
    "# import core libraries \n",
    "import datetime\n",
    "import re\n",
    "import csv\n",
    "import pathlib\n",
    "import itertools\n",
    "from collections import Counter\n",
    "\n",
    "# import third-party libraries\n",
    "import pandas\n",
    "\n",
    "# nltk library\n",
    "import nltk\n",
    "from nltk.stem import WordNetLemmatizer\n",
    "from nltk.corpus import stopwords"
   ]
  },
  {
   "cell_type": "code",
   "execution_count": 2,
   "metadata": {},
   "outputs": [],
   "source": [
    "# set directory path data\n",
    "syria_data_dir = pathlib.Path('/Users/adamstueckrath/Desktop/syria_data/')\n",
    "\n",
    "# tweets_no_rts_csv file path\n",
    "tweets_no_rts_csv = syria_data_dir / 'tweets_no_retweets' / 'tweets_no_retweets.csv'\n"
   ]
  },
  {
   "cell_type": "code",
   "execution_count": 3,
   "metadata": {},
   "outputs": [],
   "source": [
    "def string_to_datetime(tweet_date):\n",
    "    \"\"\"\n",
    "    Turns a datetime string like this: \n",
    "    '2017-07-06T18:34:37.000Z' \n",
    "    to a Python datetime object like this -> 2017-07-06 18:34:41\n",
    "    \"\"\"\n",
    "    return datetime.datetime.strptime(tweet_date, \"%Y-%m-%dT%H:%M:%S.%fZ\")\n"
   ]
  },
  {
   "cell_type": "code",
   "execution_count": 4,
   "metadata": {},
   "outputs": [],
   "source": [
    "# load tweets into dataframe from csv file\n",
    "tweets_no_rts_df = pandas.read_csv(tweets_no_rts_csv, header=0,\n",
    "                                   parse_dates=['tweet_created_at'], \n",
    "                                   date_parser=string_to_datetime)\n"
   ]
  },
  {
   "cell_type": "code",
   "execution_count": 5,
   "metadata": {
    "scrolled": true
   },
   "outputs": [
    {
     "data": {
      "text/plain": [
       "(1160088, 29)"
      ]
     },
     "execution_count": 5,
     "metadata": {},
     "output_type": "execute_result"
    }
   ],
   "source": [
    "# print dataframe\n",
    "tweets_no_rts_df.shape\n"
   ]
  },
  {
   "cell_type": "code",
   "execution_count": 6,
   "metadata": {},
   "outputs": [
    {
     "name": "stdout",
     "output_type": "stream",
     "text": [
      "2017-08-04\n"
     ]
    }
   ],
   "source": [
    "# set event data from events dataset\n",
    "event_date = pandas.to_datetime('2017-08-04').date()\n",
    "print(event_date)\n"
   ]
  },
  {
   "cell_type": "code",
   "execution_count": 7,
   "metadata": {},
   "outputs": [],
   "source": [
    "# filter function for finding tweets during event date\n",
    "def event_date_filter(tweet_date):\n",
    "    if tweet_date.date() == event_date:\n",
    "        return True\n",
    "    return False \n",
    "\n",
    "tweets_no_rts_df['tweet_event_date'] = tweets_no_rts_df[\"tweet_created_at\"].apply(event_date_filter)\n"
   ]
  },
  {
   "cell_type": "code",
   "execution_count": 8,
   "metadata": {},
   "outputs": [
    {
     "data": {
      "text/plain": [
       "False    1134431\n",
       "True       25657\n",
       "Name: tweet_event_date, dtype: int64"
      ]
     },
     "execution_count": 8,
     "metadata": {},
     "output_type": "execute_result"
    }
   ],
   "source": [
    "# how many tweets are during the event date\n",
    "tweets_no_rts_df['tweet_event_date'].value_counts()\n"
   ]
  },
  {
   "cell_type": "code",
   "execution_count": 9,
   "metadata": {},
   "outputs": [],
   "source": [
    "# filter tweets dataframe on tweet_event_date\n",
    "tweets_no_rts_df = tweets_no_rts_df[tweets_no_rts_df.tweet_event_date == True]\n"
   ]
  },
  {
   "cell_type": "markdown",
   "metadata": {},
   "source": [
    "## Finding an event to match tweet"
   ]
  },
  {
   "cell_type": "code",
   "execution_count": 10,
   "metadata": {},
   "outputs": [],
   "source": [
    "# set event string\n",
    "event_test = 'Violent clashes took place in the village of Ghanim al-Ali in Ar-Raqqa countryside between the Syrian army and its allies on one side and the Islamic State on other, the clashes were accompanied with airstrikes on the area of conflict. Pro-Syrian regime forces fully controlled the village. No fatalities reported.'\n"
   ]
  },
  {
   "cell_type": "code",
   "execution_count": 11,
   "metadata": {},
   "outputs": [],
   "source": [
    "# set stop words and word net\n",
    "stop_words = set(stopwords.words('english'))\n",
    "wordnet_lemmatizer = WordNetLemmatizer()\n",
    "\n",
    "def normalizer(tweet):\n",
    "    only_letters = re.sub(\"[^a-zA-Z]\", \" \", tweet) \n",
    "    tokens = nltk.word_tokenize(only_letters)\n",
    "    lower_case = [l.lower() for l in tokens]\n",
    "    filtered_result = list(filter(lambda l: l not in stop_words, lower_case))\n",
    "    lemmas = [wordnet_lemmatizer.lemmatize(t) for t in filtered_result]\n",
    "    return lemmas\n"
   ]
  },
  {
   "cell_type": "code",
   "execution_count": 12,
   "metadata": {},
   "outputs": [
    {
     "name": "stdout",
     "output_type": "stream",
     "text": [
      "['violent', 'clash', 'took', 'place', 'village', 'ghanim', 'al', 'ali', 'ar', 'raqqa', 'countryside', 'syrian', 'army', 'ally', 'one', 'side', 'islamic', 'state', 'clash', 'accompanied', 'airstrikes', 'area', 'conflict', 'pro', 'syrian', 'regime', 'force', 'fully', 'controlled', 'village', 'fatality', 'reported']\n"
     ]
    }
   ],
   "source": [
    "# remove stop words and normalize event string\n",
    "event_list = normalizer(event_test)\n",
    "print(event_list)\n"
   ]
  },
  {
   "cell_type": "code",
   "execution_count": 13,
   "metadata": {},
   "outputs": [],
   "source": [
    "# set tweet text to normalize\n",
    "tweets_no_rts_df['tweet_text_normalize'] = tweets_no_rts_df[\"tweet_text\"].apply(normalizer)\n"
   ]
  },
  {
   "cell_type": "code",
   "execution_count": 14,
   "metadata": {},
   "outputs": [],
   "source": [
    "# check if tweet matches test event\n",
    "def is_words_match(tweet):\n",
    "    return list((map(lambda each: each in event_list, tweet)))\n",
    "\n",
    "def check(tweet):\n",
    "    test = is_words_match(tweet)\n",
    "    if any(test):\n",
    "        return True\n",
    "    return False\n"
   ]
  },
  {
   "cell_type": "code",
   "execution_count": 15,
   "metadata": {},
   "outputs": [],
   "source": [
    "# tweet event check\n",
    "tweets_no_rts_df['tweet_event_check'] = tweets_no_rts_df[\"tweet_text_normalize\"].apply(check)\n"
   ]
  },
  {
   "cell_type": "code",
   "execution_count": 16,
   "metadata": {},
   "outputs": [],
   "source": [
    "# filter tweets dataframe on event check\n",
    "tweets_no_rts_df = tweets_no_rts_df[tweets_no_rts_df.tweet_event_check == True]\n"
   ]
  },
  {
   "cell_type": "code",
   "execution_count": 18,
   "metadata": {},
   "outputs": [
    {
     "data": {
      "text/plain": [
       "(3909, 32)"
      ]
     },
     "execution_count": 18,
     "metadata": {},
     "output_type": "execute_result"
    }
   ],
   "source": [
    "# print size of dataframe\n",
    "tweets_no_rts_df.shape"
   ]
  },
  {
   "cell_type": "code",
   "execution_count": 19,
   "metadata": {},
   "outputs": [],
   "source": [
    "# write dataframe to csv\n",
    "tweets_no_rts_df.to_csv('/Users/adamstueckrath/Desktop/syria_data/model/question_test.csv')\n"
   ]
  }
 ],
 "metadata": {
  "kernelspec": {
   "display_name": "Python 3",
   "language": "python",
   "name": "python3"
  },
  "language_info": {
   "codemirror_mode": {
    "name": "ipython",
    "version": 3
   },
   "file_extension": ".py",
   "mimetype": "text/x-python",
   "name": "python",
   "nbconvert_exporter": "python",
   "pygments_lexer": "ipython3",
   "version": "3.6.5"
  }
 },
 "nbformat": 4,
 "nbformat_minor": 2
}
