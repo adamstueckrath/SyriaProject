{
 "cells": [
  {
   "cell_type": "code",
   "execution_count": 9,
   "metadata": {},
   "outputs": [],
   "source": [
    "# import core libraries \n",
    "import datetime\n",
    "import json\n",
    "import re\n",
    "import csv\n",
    "import ast\n",
    "import pprint\n",
    "import pathlib\n",
    "import itertools\n",
    "from collections import Counter\n",
    "from itertools import islice\n",
    "\n",
    "# import third-party libraries\n",
    "import numpy as np\n",
    "import pandas as pd\n",
    "from dateutil import parser\n",
    "\n",
    "# import visualizations\n",
    "%matplotlib inline\n",
    "import matplotlib\n",
    "import matplotlib.pyplot as plt\n",
    "import seaborn as sns"
   ]
  },
  {
   "cell_type": "code",
   "execution_count": 10,
   "metadata": {},
   "outputs": [],
   "source": [
    "# set directory path data\n",
    "syria_data_dir = pathlib.Path('/Users/adamstueckrath/Desktop/syria_data/')\n",
    "\n",
    "# syria_events_csv file path\n",
    "syria_events_csv = syria_data_dir / 'events' / 'syria_event_2017_present.csv'\n"
   ]
  },
  {
   "cell_type": "code",
   "execution_count": 11,
   "metadata": {},
   "outputs": [],
   "source": [
    "def string_to_datetime(event_date):\n",
    "    \"\"\"\n",
    "    Turns a datetime string like this: \n",
    "    '4-Aug-17'\n",
    "    to a Python datetime object like this -> 2017-08-04\n",
    "    \"\"\"\n",
    "    event_date = parser.parse(event_date)\n",
    "    return event_date.date()"
   ]
  },
  {
   "cell_type": "code",
   "execution_count": 12,
   "metadata": {},
   "outputs": [],
   "source": [
    "# load tweets into dataframe from csv file\n",
    "syria_events_df = pd.read_csv(syria_events_csv, header=0,\n",
    "                               usecols=['event_id_no_cnty', 'event_date','event_type',\n",
    "                                        'location','latitude','longitude',\n",
    "                                        'actor1','assoc_actor_1',\n",
    "                                        'actor2','assoc_actor_2','notes'])\n"
   ]
  },
  {
   "cell_type": "code",
   "execution_count": 13,
   "metadata": {},
   "outputs": [],
   "source": [
    "# transform date column\n",
    "syria_events_df['event_date'] = syria_events_df['event_date'].apply(string_to_datetime)\n"
   ]
  },
  {
   "cell_type": "code",
   "execution_count": 14,
   "metadata": {},
   "outputs": [],
   "source": [
    "# rename columns\n",
    "syria_events_df = syria_events_df.rename(columns={'event_id_no_cnty': 'event_id', \n",
    "                                                  'actor1': 'actor_1',\n",
    "                                                  'actor2': 'actor_2',\n",
    "                                                  'notes': 'event_text'})\n"
   ]
  },
  {
   "cell_type": "code",
   "execution_count": 15,
   "metadata": {},
   "outputs": [],
   "source": [
    "def clean_text(text):\n",
    "    '''\n",
    "    Utility function to clean the text by removing \n",
    "    links and special characters using regex.\n",
    "    use this for removing digits -> return re.sub('\\d+', '', input_text)\n",
    "    '''\n",
    "    text = text.lower()\n",
    "    return ' '.join(re.sub(\"(@[A-Za-z0-9]+)|([^0-9A-Za-z \\t])|(\\w+:\\/\\/\\S+)\", \" \", text).split())\n"
   ]
  },
  {
   "cell_type": "code",
   "execution_count": 16,
   "metadata": {},
   "outputs": [],
   "source": [
    "syria_events_df['event_text_clean'] = syria_events_df['event_text'].apply(clean_text)\n"
   ]
  },
  {
   "cell_type": "markdown",
   "metadata": {},
   "source": [
    "## Tokenization"
   ]
  },
  {
   "cell_type": "code",
   "execution_count": 17,
   "metadata": {},
   "outputs": [],
   "source": [
    "from nltk.tokenize import word_tokenize\n",
    "\n",
    "def tokenize_text(text):\n",
    "    return word_tokenize(text)\n"
   ]
  },
  {
   "cell_type": "code",
   "execution_count": 18,
   "metadata": {},
   "outputs": [],
   "source": [
    "syria_events_df['event_text_tokenize'] = syria_events_df['event_text_clean'].apply(tokenize_text)\n"
   ]
  },
  {
   "cell_type": "markdown",
   "metadata": {},
   "source": [
    "## Stemming and removing stop words¶"
   ]
  },
  {
   "cell_type": "code",
   "execution_count": 19,
   "metadata": {},
   "outputs": [],
   "source": [
    "from nltk.stem import WordNetLemmatizer\n",
    "from nltk.corpus import stopwords\n",
    "stop_words = set(stopwords.words('english'))\n",
    "wordnet_lemmatizer = WordNetLemmatizer()\n",
    "\n",
    "def normalizer(text):\n",
    "    filtered_text = list(filter(lambda l: l not in stop_words, text))\n",
    "    lemmas = [wordnet_lemmatizer.lemmatize(t) for t in filtered_text]\n",
    "    return lemmas\n"
   ]
  },
  {
   "cell_type": "code",
   "execution_count": 20,
   "metadata": {},
   "outputs": [],
   "source": [
    "syria_events_df['event_text_normalize'] = syria_events_df['event_text_tokenize'].apply(normalizer)\n"
   ]
  },
  {
   "cell_type": "code",
   "execution_count": 21,
   "metadata": {},
   "outputs": [
    {
     "data": {
      "text/html": [
       "<div>\n",
       "<style scoped>\n",
       "    .dataframe tbody tr th:only-of-type {\n",
       "        vertical-align: middle;\n",
       "    }\n",
       "\n",
       "    .dataframe tbody tr th {\n",
       "        vertical-align: top;\n",
       "    }\n",
       "\n",
       "    .dataframe thead th {\n",
       "        text-align: right;\n",
       "    }\n",
       "</style>\n",
       "<table border=\"1\" class=\"dataframe\">\n",
       "  <thead>\n",
       "    <tr style=\"text-align: right;\">\n",
       "      <th></th>\n",
       "      <th>event_id</th>\n",
       "      <th>event_date</th>\n",
       "      <th>event_type</th>\n",
       "      <th>actor_1</th>\n",
       "      <th>assoc_actor_1</th>\n",
       "      <th>actor_2</th>\n",
       "      <th>assoc_actor_2</th>\n",
       "      <th>location</th>\n",
       "      <th>latitude</th>\n",
       "      <th>longitude</th>\n",
       "      <th>event_text</th>\n",
       "      <th>event_text_clean</th>\n",
       "      <th>event_text_tokenize</th>\n",
       "      <th>event_text_normalize</th>\n",
       "    </tr>\n",
       "  </thead>\n",
       "  <tbody>\n",
       "    <tr>\n",
       "      <th>0</th>\n",
       "      <td>10317</td>\n",
       "      <td>2017-08-04</td>\n",
       "      <td>Remote violence</td>\n",
       "      <td>Unidentified Military Forces</td>\n",
       "      <td>NaN</td>\n",
       "      <td>NaN</td>\n",
       "      <td>NaN</td>\n",
       "      <td>Thiban</td>\n",
       "      <td>35.0114</td>\n",
       "      <td>40.5047</td>\n",
       "      <td>Unknown warplanes targeted the village of Thib...</td>\n",
       "      <td>unknown warplanes targeted the village of thib...</td>\n",
       "      <td>[unknown, warplanes, targeted, the, village, o...</td>\n",
       "      <td>[unknown, warplane, targeted, village, thiban,...</td>\n",
       "    </tr>\n",
       "    <tr>\n",
       "      <th>1</th>\n",
       "      <td>10300</td>\n",
       "      <td>2017-08-04</td>\n",
       "      <td>Battle-No change of territory</td>\n",
       "      <td>AAS: Ahrar al Sham</td>\n",
       "      <td>NaN</td>\n",
       "      <td>Opposition Rebels (Syria)</td>\n",
       "      <td>Jund al Aqsa</td>\n",
       "      <td>Maar Shamarin</td>\n",
       "      <td>35.6159</td>\n",
       "      <td>36.7188</td>\n",
       "      <td>Clashes between Ahrar al-Sham militia and mili...</td>\n",
       "      <td>clashes between ahrar al sham militia and mili...</td>\n",
       "      <td>[clashes, between, ahrar, al, sham, militia, a...</td>\n",
       "      <td>[clash, ahrar, al, sham, militia, militant, pr...</td>\n",
       "    </tr>\n",
       "    <tr>\n",
       "      <th>2</th>\n",
       "      <td>10283</td>\n",
       "      <td>2017-08-04</td>\n",
       "      <td>Remote violence</td>\n",
       "      <td>Islamist Rebels (Syria)</td>\n",
       "      <td>NaN</td>\n",
       "      <td>Military Forces of Syria (2000-)</td>\n",
       "      <td>NaN</td>\n",
       "      <td>Bashkwi</td>\n",
       "      <td>36.3278</td>\n",
       "      <td>37.1203</td>\n",
       "      <td>The Islamic rebel troops targeted Syrian army ...</td>\n",
       "      <td>the islamic rebel troops targeted syrian army ...</td>\n",
       "      <td>[the, islamic, rebel, troops, targeted, syrian...</td>\n",
       "      <td>[islamic, rebel, troop, targeted, syrian, army...</td>\n",
       "    </tr>\n",
       "    <tr>\n",
       "      <th>3</th>\n",
       "      <td>10318</td>\n",
       "      <td>2017-08-04</td>\n",
       "      <td>Remote violence</td>\n",
       "      <td>Military Forces of Syria (2000-)</td>\n",
       "      <td>NaN</td>\n",
       "      <td>NaN</td>\n",
       "      <td>NaN</td>\n",
       "      <td>Um Hartein</td>\n",
       "      <td>35.3872</td>\n",
       "      <td>36.8608</td>\n",
       "      <td>The Syrian army shelled the villages of Murak,...</td>\n",
       "      <td>the syrian army shelled the villages of murak ...</td>\n",
       "      <td>[the, syrian, army, shelled, the, villages, of...</td>\n",
       "      <td>[syrian, army, shelled, village, murak, lahaya...</td>\n",
       "    </tr>\n",
       "    <tr>\n",
       "      <th>4</th>\n",
       "      <td>10319</td>\n",
       "      <td>2017-08-04</td>\n",
       "      <td>Remote violence</td>\n",
       "      <td>Unidentified Armed Group (Syria)</td>\n",
       "      <td>NaN</td>\n",
       "      <td>HTS: Hayat Tahrir al Sham</td>\n",
       "      <td>Civilians (Syria)</td>\n",
       "      <td>Urum al-Kubra</td>\n",
       "      <td>36.1482</td>\n",
       "      <td>36.9478</td>\n",
       "      <td>Two HTS members and 2 civilians were killed in...</td>\n",
       "      <td>two hts members and 2 civilians were killed in...</td>\n",
       "      <td>[two, hts, members, and, 2, civilians, were, k...</td>\n",
       "      <td>[two, hts, member, 2, civilian, killed, car, e...</td>\n",
       "    </tr>\n",
       "  </tbody>\n",
       "</table>\n",
       "</div>"
      ],
      "text/plain": [
       "   event_id  event_date                     event_type  \\\n",
       "0     10317  2017-08-04                Remote violence   \n",
       "1     10300  2017-08-04  Battle-No change of territory   \n",
       "2     10283  2017-08-04                Remote violence   \n",
       "3     10318  2017-08-04                Remote violence   \n",
       "4     10319  2017-08-04                Remote violence   \n",
       "\n",
       "                            actor_1 assoc_actor_1  \\\n",
       "0      Unidentified Military Forces           NaN   \n",
       "1                AAS: Ahrar al Sham           NaN   \n",
       "2           Islamist Rebels (Syria)           NaN   \n",
       "3  Military Forces of Syria (2000-)           NaN   \n",
       "4  Unidentified Armed Group (Syria)           NaN   \n",
       "\n",
       "                            actor_2      assoc_actor_2       location  \\\n",
       "0                               NaN                NaN         Thiban   \n",
       "1         Opposition Rebels (Syria)       Jund al Aqsa  Maar Shamarin   \n",
       "2  Military Forces of Syria (2000-)                NaN        Bashkwi   \n",
       "3                               NaN                NaN     Um Hartein   \n",
       "4         HTS: Hayat Tahrir al Sham  Civilians (Syria)  Urum al-Kubra   \n",
       "\n",
       "   latitude  longitude                                         event_text  \\\n",
       "0   35.0114    40.5047  Unknown warplanes targeted the village of Thib...   \n",
       "1   35.6159    36.7188  Clashes between Ahrar al-Sham militia and mili...   \n",
       "2   36.3278    37.1203  The Islamic rebel troops targeted Syrian army ...   \n",
       "3   35.3872    36.8608  The Syrian army shelled the villages of Murak,...   \n",
       "4   36.1482    36.9478  Two HTS members and 2 civilians were killed in...   \n",
       "\n",
       "                                    event_text_clean  \\\n",
       "0  unknown warplanes targeted the village of thib...   \n",
       "1  clashes between ahrar al sham militia and mili...   \n",
       "2  the islamic rebel troops targeted syrian army ...   \n",
       "3  the syrian army shelled the villages of murak ...   \n",
       "4  two hts members and 2 civilians were killed in...   \n",
       "\n",
       "                                 event_text_tokenize  \\\n",
       "0  [unknown, warplanes, targeted, the, village, o...   \n",
       "1  [clashes, between, ahrar, al, sham, militia, a...   \n",
       "2  [the, islamic, rebel, troops, targeted, syrian...   \n",
       "3  [the, syrian, army, shelled, the, villages, of...   \n",
       "4  [two, hts, members, and, 2, civilians, were, k...   \n",
       "\n",
       "                                event_text_normalize  \n",
       "0  [unknown, warplane, targeted, village, thiban,...  \n",
       "1  [clash, ahrar, al, sham, militia, militant, pr...  \n",
       "2  [islamic, rebel, troop, targeted, syrian, army...  \n",
       "3  [syrian, army, shelled, village, murak, lahaya...  \n",
       "4  [two, hts, member, 2, civilian, killed, car, e...  "
      ]
     },
     "execution_count": 21,
     "metadata": {},
     "output_type": "execute_result"
    }
   ],
   "source": [
    "syria_events_df.head()\n"
   ]
  },
  {
   "cell_type": "code",
   "execution_count": 22,
   "metadata": {},
   "outputs": [
    {
     "data": {
      "text/plain": [
       "'The Syrian army shelled Talbiseh village in the Northern countryside of Homs which led to the killing ofing one militant from an Islamic rebel troop.'"
      ]
     },
     "execution_count": 22,
     "metadata": {},
     "output_type": "execute_result"
    }
   ],
   "source": [
    "syria_events_df.iloc[7]['event_text']\n"
   ]
  },
  {
   "cell_type": "code",
   "execution_count": 23,
   "metadata": {},
   "outputs": [
    {
     "data": {
      "text/plain": [
       "['syrian',\n",
       " 'army',\n",
       " 'shelled',\n",
       " 'talbiseh',\n",
       " 'village',\n",
       " 'northern',\n",
       " 'countryside',\n",
       " 'homs',\n",
       " 'led',\n",
       " 'killing',\n",
       " 'ofing',\n",
       " 'one',\n",
       " 'militant',\n",
       " 'islamic',\n",
       " 'rebel',\n",
       " 'troop']"
      ]
     },
     "execution_count": 23,
     "metadata": {},
     "output_type": "execute_result"
    }
   ],
   "source": [
    "syria_events_df.iloc[7]['event_text_normalize']"
   ]
  },
  {
   "cell_type": "code",
   "execution_count": 24,
   "metadata": {},
   "outputs": [
    {
     "data": {
      "text/plain": [
       "'the syrian army shelled talbiseh village in the northern countryside of homs which led to the killing ofing one militant from an islamic rebel troop'"
      ]
     },
     "execution_count": 24,
     "metadata": {},
     "output_type": "execute_result"
    }
   ],
   "source": [
    "syria_events_df.iloc[7]['event_text_clean']"
   ]
  },
  {
   "cell_type": "markdown",
   "metadata": {},
   "source": [
    "## Save data for training and testing "
   ]
  },
  {
   "cell_type": "code",
   "execution_count": 25,
   "metadata": {},
   "outputs": [],
   "source": [
    "# syria_events_csv file path\n",
    "events_pre_processed_csv = syria_data_dir / 'model' / 'model_data' /'events_pre_processed.csv'\n",
    "\n",
    "# write tweets to csv \n",
    "syria_events_df.to_csv(events_pre_processed_csv, index=False)\n"
   ]
  },
  {
   "cell_type": "code",
   "execution_count": null,
   "metadata": {},
   "outputs": [],
   "source": []
  }
 ],
 "metadata": {
  "kernelspec": {
   "display_name": "Python 3",
   "language": "python",
   "name": "python3"
  },
  "language_info": {
   "codemirror_mode": {
    "name": "ipython",
    "version": 3
   },
   "file_extension": ".py",
   "mimetype": "text/x-python",
   "name": "python",
   "nbconvert_exporter": "python",
   "pygments_lexer": "ipython3",
   "version": "3.6.5"
  }
 },
 "nbformat": 4,
 "nbformat_minor": 2
}
