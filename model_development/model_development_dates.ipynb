{
 "cells": [
  {
   "cell_type": "code",
   "execution_count": 1,
   "metadata": {},
   "outputs": [],
   "source": [
    "# import core libraries \n",
    "import datetime\n",
    "import json\n",
    "import re\n",
    "import csv\n",
    "import ast\n",
    "import pprint\n",
    "import pathlib\n",
    "import itertools\n",
    "from collections import Counter\n",
    "from itertools import islice\n",
    "\n",
    "# import third-party libraries\n",
    "import numpy as np\n",
    "import pandas as pd"
   ]
  },
  {
   "cell_type": "code",
   "execution_count": 2,
   "metadata": {},
   "outputs": [],
   "source": [
    "# set directory path data\n",
    "syria_data_dir = pathlib.Path('/Users/adamstueckrath/Desktop/syria_data/')\n",
    "\n",
    "# syria_events_csv file path\n",
    "events_pre_processed_csv = syria_data_dir / 'model' / 'model_data' / 'events_pre_processed.csv'\n",
    "\n",
    "# tweets_no_rts_csv file path\n",
    "tweets_pre_processed_csv = syria_data_dir / 'model' / 'model_data' / 'tweets_pre_processed.csv'\n"
   ]
  },
  {
   "cell_type": "code",
   "execution_count": 3,
   "metadata": {},
   "outputs": [
    {
     "name": "stderr",
     "output_type": "stream",
     "text": [
      "/Users/adamstueckrath/.pyenv/versions/3.6.5/envs/syria-project-3.6.5/lib/python3.6/site-packages/IPython/core/interactiveshell.py:3018: DtypeWarning: Columns (0,2,3,4,6,7,8,10,11,12) have mixed types. Specify dtype option on import or set low_memory=False.\n",
      "  interactivity=interactivity, compiler=compiler, result=result)\n"
     ]
    }
   ],
   "source": [
    "tweets_df = pd.read_csv(tweets_pre_processed_csv, header=0)\n",
    "events_df = pd.read_csv(events_pre_processed_csv, header=0)"
   ]
  },
  {
   "cell_type": "code",
   "execution_count": 4,
   "metadata": {},
   "outputs": [],
   "source": [
    "tweets_df = tweets_df.dropna(subset=['tweet_text_normalize'])"
   ]
  },
  {
   "cell_type": "code",
   "execution_count": 5,
   "metadata": {},
   "outputs": [
    {
     "data": {
      "text/plain": [
       "tweet_id                     object\n",
       "tweet_id_str                float64\n",
       "tweet_created_at             object\n",
       "tweet_lang                   object\n",
       "tweet_text                   object\n",
       "user_id_str                 float64\n",
       "user_name                    object\n",
       "tweet_text_clean             object\n",
       "tweet_sentiment_compound     object\n",
       "tweet_sentiment_score       float64\n",
       "tweet_sentiment_label        object\n",
       "tweet_text_tokenize          object\n",
       "tweet_text_normalize         object\n",
       "dtype: object"
      ]
     },
     "execution_count": 5,
     "metadata": {},
     "output_type": "execute_result"
    }
   ],
   "source": [
    "tweets_df.dtypes"
   ]
  },
  {
   "cell_type": "code",
   "execution_count": 6,
   "metadata": {},
   "outputs": [
    {
     "data": {
      "text/plain": [
       "event_id                  int64\n",
       "event_date               object\n",
       "event_type               object\n",
       "actor_1                  object\n",
       "assoc_actor_1            object\n",
       "actor_2                  object\n",
       "assoc_actor_2            object\n",
       "location                 object\n",
       "latitude                float64\n",
       "longitude               float64\n",
       "event_text               object\n",
       "event_text_clean         object\n",
       "event_text_tokenize      object\n",
       "event_text_normalize     object\n",
       "dtype: object"
      ]
     },
     "execution_count": 6,
     "metadata": {},
     "output_type": "execute_result"
    }
   ],
   "source": [
    "events_df.dtypes"
   ]
  },
  {
   "cell_type": "code",
   "execution_count": 9,
   "metadata": {},
   "outputs": [],
   "source": [
    "t = events_df.event_date.unique()"
   ]
  },
  {
   "cell_type": "code",
   "execution_count": 10,
   "metadata": {},
   "outputs": [
    {
     "name": "stdout",
     "output_type": "stream",
     "text": [
      "['2017-08-04' '2017-08-03' '2017-08-02' '2017-08-01' '2017-07-31'\n",
      " '2017-07-30' '2017-07-29' '2017-07-28' '2017-07-27' '2017-07-26'\n",
      " '2017-07-25' '2017-07-24' '2017-07-23' '2017-07-22' '2017-07-21'\n",
      " '2017-07-20' '2017-07-19' '2017-07-18' '2017-07-17' '2017-07-16'\n",
      " '2017-07-15' '2017-07-14' '2017-07-13' '2017-07-12' '2017-07-11'\n",
      " '2017-07-10' '2017-07-09' '2017-07-08' '2017-07-07' '2017-07-06']\n"
     ]
    }
   ],
   "source": [
    "print(t)"
   ]
  },
  {
   "cell_type": "code",
   "execution_count": 11,
   "metadata": {},
   "outputs": [],
   "source": [
    "y = tweets_df.tweet_created_at.unique()"
   ]
  },
  {
   "cell_type": "code",
   "execution_count": 21,
   "metadata": {},
   "outputs": [],
   "source": [
    "def test_date(x):\n",
    "    return pd.to_datetime(x).date()#datetime.datetime.strptime(x, '%Y-%m-%d ')\n"
   ]
  },
  {
   "cell_type": "code",
   "execution_count": 22,
   "metadata": {},
   "outputs": [],
   "source": [
    "tweets_df['tweet_created_at_2'] = tweets_df['tweet_created_at'].apply(test_date)\n"
   ]
  },
  {
   "cell_type": "code",
   "execution_count": 24,
   "metadata": {},
   "outputs": [
    {
     "data": {
      "text/plain": [
       "[datetime.date(2017, 7, 6),\n",
       " datetime.date(2017, 7, 7),\n",
       " datetime.date(2017, 7, 8),\n",
       " datetime.date(2017, 7, 9),\n",
       " datetime.date(2017, 7, 10),\n",
       " datetime.date(2017, 7, 11),\n",
       " datetime.date(2017, 7, 12),\n",
       " datetime.date(2017, 7, 13),\n",
       " datetime.date(2017, 7, 14),\n",
       " datetime.date(2017, 7, 15),\n",
       " datetime.date(2017, 7, 16),\n",
       " datetime.date(2017, 7, 17),\n",
       " datetime.date(2017, 7, 18),\n",
       " datetime.date(2017, 7, 19),\n",
       " datetime.date(2017, 7, 20),\n",
       " datetime.date(2017, 7, 21),\n",
       " datetime.date(2017, 7, 22),\n",
       " datetime.date(2017, 7, 23),\n",
       " datetime.date(2017, 7, 24),\n",
       " datetime.date(2017, 7, 25),\n",
       " datetime.date(2017, 7, 26),\n",
       " datetime.date(2017, 7, 27),\n",
       " datetime.date(2017, 7, 28),\n",
       " datetime.date(2017, 7, 29),\n",
       " datetime.date(2017, 7, 30),\n",
       " datetime.date(2017, 7, 31),\n",
       " datetime.date(2017, 8, 1),\n",
       " datetime.date(2017, 8, 2),\n",
       " datetime.date(2017, 8, 3),\n",
       " datetime.date(2017, 8, 4)]"
      ]
     },
     "execution_count": 24,
     "metadata": {},
     "output_type": "execute_result"
    }
   ],
   "source": [
    "tweets_df.tweet_created_at_2.unique().tolist()"
   ]
  },
  {
   "cell_type": "code",
   "execution_count": null,
   "metadata": {},
   "outputs": [],
   "source": []
  },
  {
   "cell_type": "code",
   "execution_count": null,
   "metadata": {},
   "outputs": [],
   "source": []
  }
 ],
 "metadata": {
  "kernelspec": {
   "display_name": "Python 3",
   "language": "python",
   "name": "python3"
  },
  "language_info": {
   "codemirror_mode": {
    "name": "ipython",
    "version": 3
   },
   "file_extension": ".py",
   "mimetype": "text/x-python",
   "name": "python",
   "nbconvert_exporter": "python",
   "pygments_lexer": "ipython3",
   "version": "3.6.5"
  }
 },
 "nbformat": 4,
 "nbformat_minor": 2
}
