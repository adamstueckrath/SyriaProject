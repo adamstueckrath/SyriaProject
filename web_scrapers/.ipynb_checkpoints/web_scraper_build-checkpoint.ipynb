{
 "cells": [
  {
   "cell_type": "code",
   "execution_count": 1,
   "metadata": {},
   "outputs": [],
   "source": [
    "import bs4\n",
    "import googletrans\n",
    "import requests\n",
    "import pprint\n",
    "import pandas\n",
    "from urllib import parse\n",
    "import twint"
   ]
  },
  {
   "cell_type": "code",
   "execution_count": 2,
   "metadata": {},
   "outputs": [],
   "source": [
    "def extract_database_name(url):\n",
    "    parse_url = parse.urlsplit(url).path\n",
    "    path_url = parse_url.split('/')\n",
    "    return path_url[3]\n",
    "\n",
    "def add_url_page_number(url, page_number):\n",
    "    parse_url = parse.urlsplit(url)\n",
    "    \n",
    "    # split url path\n",
    "    path_url = parse_url.path.split('/')\n",
    "\n",
    "    # remove and replace page number with page_number\n",
    "    previous_number = path_url[4]\n",
    "    path_url.remove(previous_number)\n",
    "    path_url.insert(4, str(page_number))\n",
    "    \n",
    "    # join new_path and add it to the base url\n",
    "    new_path = '/'.join( t for t in path_url)\n",
    "    return parse.urljoin(url, new_path)\n",
    "\n",
    "def vcd_crawl(url_path, total_pages):\n",
    "    df_list = []\n",
    "    for page_number in range(1, total_pages+1):\n",
    "        \n",
    "        # get url with correct page number\n",
    "        url = add_url_page_number(url_path, page_number)\n",
    "        page = requests.get(url)\n",
    "        \n",
    "        # logging new page number\n",
    "        print(\"getting page{}\".format(str(page_number)))\n",
    "              \n",
    "        # create a BeautifulSoup object\n",
    "        soup = bs4.BeautifulSoup(page.text, \"lxml\")\n",
    "\n",
    "        # find the table in the html with the class peopleListing\n",
    "        table = soup.find(\"table\", class_=\"peopleListing\")\n",
    "\n",
    "        # html to pandas dataframe\n",
    "        df = pandas.read_html(str(table), header=0, index_col=None)\n",
    "        \n",
    "        df_list.append(df[0])\n",
    "    \n",
    "    final_df = pandas.concat(df_list)\n",
    "    final_df.reset_index(drop=True, inplace=True)\n",
    "    return final_df\n",
    "\n",
    "def run_crawl(url_paths_pages):\n",
    "    for url_path, total_pages in url_paths.items():\n",
    "        dataset = vcd_crawl(url_path, total_pages)\n",
    "        dataset.to_csv('~/Desktop/vdc_causality_{database_name}.csv'.format(database_name=extract_database_name(url_path)))\n",
    "\n",
    "# maybe turn into dict  \n",
    "url_paths = {\n",
    "            \"http://www.vdc-sy.info/index.php/en/martyrs/1/c29ydGJ5PWEua2lsbGVkX2RhdGV8c29ydGRpcj1ERVNDfGFwcHJvdmVkPXZpc2libGV8ZXh0cmFkaXNwbGF5PTB8\":1667,\n",
    "            \"http://www.vdc-sy.info/index.php/en/detainees/1/c29ydGJ5PWEuaTN0ZXFhbF9kYXRlfHNvcnRkaXI9REVTQ3xhcHByb3ZlZD12aXNpYmxlfGV4dHJhZGlzcGxheT0wfA==\":667,\n",
    "            \"http://www.vdc-sy.info/index.php/en/missing/1/c29ydGJ5PWEuZGlzYXBlYXJlZF9kYXRlfHNvcnRkaXI9REVTQ3xhcHByb3ZlZD12aXNpYmxlfGV4dHJhZGlzcGxheT0wfA==\":30\n",
    "            }\n"
   ]
  },
  {
   "cell_type": "code",
   "execution_count": 3,
   "metadata": {},
   "outputs": [],
   "source": [
    "#test = pandas.read_csv('~/Desktop/vdc_causality_detainees.csv', header=0, index_col=0)"
   ]
  },
  {
   "cell_type": "code",
   "execution_count": 4,
   "metadata": {},
   "outputs": [],
   "source": [
    "#print (test.iloc[35776])"
   ]
  },
  {
   "cell_type": "code",
   "execution_count": null,
   "metadata": {},
   "outputs": [],
   "source": []
  }
 ],
 "metadata": {
  "kernelspec": {
   "display_name": "Python 3",
   "language": "python",
   "name": "python3"
  },
  "language_info": {
   "codemirror_mode": {
    "name": "ipython",
    "version": 3
   },
   "file_extension": ".py",
   "mimetype": "text/x-python",
   "name": "python",
   "nbconvert_exporter": "python",
   "pygments_lexer": "ipython3",
   "version": "3.6.5"
  }
 },
 "nbformat": 4,
 "nbformat_minor": 2
}
